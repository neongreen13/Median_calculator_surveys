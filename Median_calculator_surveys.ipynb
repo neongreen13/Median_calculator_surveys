{
 "cells": [
  {
   "cell_type": "markdown",
   "metadata": {},
   "source": [
    "Import data. Exmaple is fictional income ranges.\n",
    "- The first column is the survey selection options, or the ranges / categories from the survey where respondants check only one answer. A survey question where respondants can check multiple answers is not applicable here.\n",
    "- The second column is the data, or percent of respondents for each category."
   ]
  },
  {
   "cell_type": "code",
   "execution_count": 43,
   "metadata": {},
   "outputs": [
    {
     "data": {
      "text/html": [
       "<div>\n",
       "<style scoped>\n",
       "    .dataframe tbody tr th:only-of-type {\n",
       "        vertical-align: middle;\n",
       "    }\n",
       "\n",
       "    .dataframe tbody tr th {\n",
       "        vertical-align: top;\n",
       "    }\n",
       "\n",
       "    .dataframe thead th {\n",
       "        text-align: right;\n",
       "    }\n",
       "</style>\n",
       "<table border=\"1\" class=\"dataframe\">\n",
       "  <thead>\n",
       "    <tr style=\"text-align: right;\">\n",
       "      <th></th>\n",
       "      <th>Survey Options</th>\n",
       "      <th>Percent of share by category range</th>\n",
       "    </tr>\n",
       "  </thead>\n",
       "  <tbody>\n",
       "    <tr>\n",
       "      <th>0</th>\n",
       "      <td>0--$24,999</td>\n",
       "      <td>5</td>\n",
       "    </tr>\n",
       "    <tr>\n",
       "      <th>1</th>\n",
       "      <td>$25,000-$49,999</td>\n",
       "      <td>6</td>\n",
       "    </tr>\n",
       "    <tr>\n",
       "      <th>2</th>\n",
       "      <td>$50,000-$74,999</td>\n",
       "      <td>22</td>\n",
       "    </tr>\n",
       "    <tr>\n",
       "      <th>3</th>\n",
       "      <td>$75,000-$99,999</td>\n",
       "      <td>20</td>\n",
       "    </tr>\n",
       "    <tr>\n",
       "      <th>4</th>\n",
       "      <td>$100,000-$124,999</td>\n",
       "      <td>18</td>\n",
       "    </tr>\n",
       "    <tr>\n",
       "      <th>5</th>\n",
       "      <td>$125,000-$149,999</td>\n",
       "      <td>13</td>\n",
       "    </tr>\n",
       "    <tr>\n",
       "      <th>6</th>\n",
       "      <td>$150,000-$174,999</td>\n",
       "      <td>7</td>\n",
       "    </tr>\n",
       "    <tr>\n",
       "      <th>7</th>\n",
       "      <td>$175,000-$199,999</td>\n",
       "      <td>5</td>\n",
       "    </tr>\n",
       "    <tr>\n",
       "      <th>8</th>\n",
       "      <td>$200,000-$249,999</td>\n",
       "      <td>2</td>\n",
       "    </tr>\n",
       "    <tr>\n",
       "      <th>9</th>\n",
       "      <td>$250,000-$299,999</td>\n",
       "      <td>1</td>\n",
       "    </tr>\n",
       "    <tr>\n",
       "      <th>10</th>\n",
       "      <td>$300,000-$349,999</td>\n",
       "      <td>1</td>\n",
       "    </tr>\n",
       "    <tr>\n",
       "      <th>11</th>\n",
       "      <td>$350,000-$500,000</td>\n",
       "      <td>0</td>\n",
       "    </tr>\n",
       "  </tbody>\n",
       "</table>\n",
       "</div>"
      ],
      "text/plain": [
       "       Survey Options  Percent of share by category range\n",
       "0          0--$24,999                                   5\n",
       "1     $25,000-$49,999                                   6\n",
       "2     $50,000-$74,999                                  22\n",
       "3     $75,000-$99,999                                  20\n",
       "4   $100,000-$124,999                                  18\n",
       "5   $125,000-$149,999                                  13\n",
       "6   $150,000-$174,999                                   7\n",
       "7   $175,000-$199,999                                   5\n",
       "8   $200,000-$249,999                                   2\n",
       "9   $250,000-$299,999                                   1\n",
       "10  $300,000-$349,999                                   1\n",
       "11  $350,000-$500,000                                   0"
      ]
     },
     "execution_count": 43,
     "metadata": {},
     "output_type": "execute_result"
    }
   ],
   "source": [
    "import pandas as pd\n",
    "data = {'Survey Options': ['0--$24,999','$25,000-$49,999','$50,000-$74,999','$75,000-$99,999','$100,000-$124,999',\n",
    "                  '$125,000-$149,999', '$150,000-$174,999','$175,000-$199,999','$200,000-$249,999','$250,000-$299,999',\n",
    "                  '$300,000-$349,999','$350,000-$500,000'],\n",
    "        'Percent of share by category range': [5,6,22,20,18,13,7,5,2,1,1,0]}\n",
    "df = pd.DataFrame(data=data)\n",
    "df = df[['Survey Options','Percent of share by category range']]\n",
    "df"
   ]
  },
  {
   "cell_type": "markdown",
   "metadata": {},
   "source": [
    "Next, you must define the lower bound and range size for each category."
   ]
  },
  {
   "cell_type": "code",
   "execution_count": 44,
   "metadata": {},
   "outputs": [],
   "source": [
    "lower_bound = [0,25000,50000,75000,100000,125000,150000,175000,200000,250000,300000,350000] \n",
    "df['Lower Bound'] = lower_bound\n",
    "range_size = [25000,25000,25000,25000,25000,25000,25000,25000,50000,50000,50000,50000] \n",
    "df['Range Size'] = range_size"
   ]
  },
  {
   "cell_type": "code",
   "execution_count": 45,
   "metadata": {},
   "outputs": [
    {
     "data": {
      "text/html": [
       "<div>\n",
       "<style scoped>\n",
       "    .dataframe tbody tr th:only-of-type {\n",
       "        vertical-align: middle;\n",
       "    }\n",
       "\n",
       "    .dataframe tbody tr th {\n",
       "        vertical-align: top;\n",
       "    }\n",
       "\n",
       "    .dataframe thead th {\n",
       "        text-align: right;\n",
       "    }\n",
       "</style>\n",
       "<table border=\"1\" class=\"dataframe\">\n",
       "  <thead>\n",
       "    <tr style=\"text-align: right;\">\n",
       "      <th></th>\n",
       "      <th>Survey Options</th>\n",
       "      <th>Lower Bound</th>\n",
       "      <th>Range Size</th>\n",
       "      <th>Percent of share by category range</th>\n",
       "    </tr>\n",
       "  </thead>\n",
       "  <tbody>\n",
       "    <tr>\n",
       "      <th>0</th>\n",
       "      <td>0--$24,999</td>\n",
       "      <td>0</td>\n",
       "      <td>25000</td>\n",
       "      <td>5</td>\n",
       "    </tr>\n",
       "    <tr>\n",
       "      <th>1</th>\n",
       "      <td>$25,000-$49,999</td>\n",
       "      <td>25000</td>\n",
       "      <td>25000</td>\n",
       "      <td>6</td>\n",
       "    </tr>\n",
       "    <tr>\n",
       "      <th>2</th>\n",
       "      <td>$50,000-$74,999</td>\n",
       "      <td>50000</td>\n",
       "      <td>25000</td>\n",
       "      <td>22</td>\n",
       "    </tr>\n",
       "    <tr>\n",
       "      <th>3</th>\n",
       "      <td>$75,000-$99,999</td>\n",
       "      <td>75000</td>\n",
       "      <td>25000</td>\n",
       "      <td>20</td>\n",
       "    </tr>\n",
       "    <tr>\n",
       "      <th>4</th>\n",
       "      <td>$100,000-$124,999</td>\n",
       "      <td>100000</td>\n",
       "      <td>25000</td>\n",
       "      <td>18</td>\n",
       "    </tr>\n",
       "    <tr>\n",
       "      <th>5</th>\n",
       "      <td>$125,000-$149,999</td>\n",
       "      <td>125000</td>\n",
       "      <td>25000</td>\n",
       "      <td>13</td>\n",
       "    </tr>\n",
       "    <tr>\n",
       "      <th>6</th>\n",
       "      <td>$150,000-$174,999</td>\n",
       "      <td>150000</td>\n",
       "      <td>25000</td>\n",
       "      <td>7</td>\n",
       "    </tr>\n",
       "    <tr>\n",
       "      <th>7</th>\n",
       "      <td>$175,000-$199,999</td>\n",
       "      <td>175000</td>\n",
       "      <td>25000</td>\n",
       "      <td>5</td>\n",
       "    </tr>\n",
       "    <tr>\n",
       "      <th>8</th>\n",
       "      <td>$200,000-$249,999</td>\n",
       "      <td>200000</td>\n",
       "      <td>50000</td>\n",
       "      <td>2</td>\n",
       "    </tr>\n",
       "    <tr>\n",
       "      <th>9</th>\n",
       "      <td>$250,000-$299,999</td>\n",
       "      <td>250000</td>\n",
       "      <td>50000</td>\n",
       "      <td>1</td>\n",
       "    </tr>\n",
       "    <tr>\n",
       "      <th>10</th>\n",
       "      <td>$300,000-$349,999</td>\n",
       "      <td>300000</td>\n",
       "      <td>50000</td>\n",
       "      <td>1</td>\n",
       "    </tr>\n",
       "    <tr>\n",
       "      <th>11</th>\n",
       "      <td>$350,000-$500,000</td>\n",
       "      <td>350000</td>\n",
       "      <td>50000</td>\n",
       "      <td>0</td>\n",
       "    </tr>\n",
       "  </tbody>\n",
       "</table>\n",
       "</div>"
      ],
      "text/plain": [
       "       Survey Options  Lower Bound  Range Size  \\\n",
       "0          0--$24,999            0       25000   \n",
       "1     $25,000-$49,999        25000       25000   \n",
       "2     $50,000-$74,999        50000       25000   \n",
       "3     $75,000-$99,999        75000       25000   \n",
       "4   $100,000-$124,999       100000       25000   \n",
       "5   $125,000-$149,999       125000       25000   \n",
       "6   $150,000-$174,999       150000       25000   \n",
       "7   $175,000-$199,999       175000       25000   \n",
       "8   $200,000-$249,999       200000       50000   \n",
       "9   $250,000-$299,999       250000       50000   \n",
       "10  $300,000-$349,999       300000       50000   \n",
       "11  $350,000-$500,000       350000       50000   \n",
       "\n",
       "    Percent of share by category range  \n",
       "0                                    5  \n",
       "1                                    6  \n",
       "2                                   22  \n",
       "3                                   20  \n",
       "4                                   18  \n",
       "5                                   13  \n",
       "6                                    7  \n",
       "7                                    5  \n",
       "8                                    2  \n",
       "9                                    1  \n",
       "10                                   1  \n",
       "11                                   0  "
      ]
     },
     "execution_count": 45,
     "metadata": {},
     "output_type": "execute_result"
    }
   ],
   "source": [
    "df = df[['Survey Options','Lower Bound','Range Size','Percent of share by category range']]\n",
    "df"
   ]
  },
  {
   "cell_type": "code",
   "execution_count": 46,
   "metadata": {},
   "outputs": [
    {
     "name": "stderr",
     "output_type": "stream",
     "text": [
      "/home/ariggs/myENV/lib/python3.5/site-packages/ipykernel_launcher.py:1: SettingWithCopyWarning: \n",
      "A value is trying to be set on a copy of a slice from a DataFrame.\n",
      "Try using .loc[row_indexer,col_indexer] = value instead\n",
      "\n",
      "See the caveats in the documentation: http://pandas.pydata.org/pandas-docs/stable/indexing.html#indexing-view-versus-copy\n",
      "  \"\"\"Entry point for launching an IPython kernel.\n"
     ]
    },
    {
     "data": {
      "text/html": [
       "<div>\n",
       "<style scoped>\n",
       "    .dataframe tbody tr th:only-of-type {\n",
       "        vertical-align: middle;\n",
       "    }\n",
       "\n",
       "    .dataframe tbody tr th {\n",
       "        vertical-align: top;\n",
       "    }\n",
       "\n",
       "    .dataframe thead th {\n",
       "        text-align: right;\n",
       "    }\n",
       "</style>\n",
       "<table border=\"1\" class=\"dataframe\">\n",
       "  <thead>\n",
       "    <tr style=\"text-align: right;\">\n",
       "      <th></th>\n",
       "      <th>Survey Options</th>\n",
       "      <th>Lower Bound</th>\n",
       "      <th>Range Size</th>\n",
       "      <th>Percent of share by category range</th>\n",
       "      <th>cumsum</th>\n",
       "    </tr>\n",
       "  </thead>\n",
       "  <tbody>\n",
       "    <tr>\n",
       "      <th>0</th>\n",
       "      <td>0--$24,999</td>\n",
       "      <td>0</td>\n",
       "      <td>25000</td>\n",
       "      <td>5</td>\n",
       "      <td>5</td>\n",
       "    </tr>\n",
       "    <tr>\n",
       "      <th>1</th>\n",
       "      <td>$25,000-$49,999</td>\n",
       "      <td>25000</td>\n",
       "      <td>25000</td>\n",
       "      <td>6</td>\n",
       "      <td>11</td>\n",
       "    </tr>\n",
       "    <tr>\n",
       "      <th>2</th>\n",
       "      <td>$50,000-$74,999</td>\n",
       "      <td>50000</td>\n",
       "      <td>25000</td>\n",
       "      <td>22</td>\n",
       "      <td>33</td>\n",
       "    </tr>\n",
       "    <tr>\n",
       "      <th>3</th>\n",
       "      <td>$75,000-$99,999</td>\n",
       "      <td>75000</td>\n",
       "      <td>25000</td>\n",
       "      <td>20</td>\n",
       "      <td>53</td>\n",
       "    </tr>\n",
       "    <tr>\n",
       "      <th>4</th>\n",
       "      <td>$100,000-$124,999</td>\n",
       "      <td>100000</td>\n",
       "      <td>25000</td>\n",
       "      <td>18</td>\n",
       "      <td>71</td>\n",
       "    </tr>\n",
       "    <tr>\n",
       "      <th>5</th>\n",
       "      <td>$125,000-$149,999</td>\n",
       "      <td>125000</td>\n",
       "      <td>25000</td>\n",
       "      <td>13</td>\n",
       "      <td>84</td>\n",
       "    </tr>\n",
       "    <tr>\n",
       "      <th>6</th>\n",
       "      <td>$150,000-$174,999</td>\n",
       "      <td>150000</td>\n",
       "      <td>25000</td>\n",
       "      <td>7</td>\n",
       "      <td>91</td>\n",
       "    </tr>\n",
       "    <tr>\n",
       "      <th>7</th>\n",
       "      <td>$175,000-$199,999</td>\n",
       "      <td>175000</td>\n",
       "      <td>25000</td>\n",
       "      <td>5</td>\n",
       "      <td>96</td>\n",
       "    </tr>\n",
       "    <tr>\n",
       "      <th>8</th>\n",
       "      <td>$200,000-$249,999</td>\n",
       "      <td>200000</td>\n",
       "      <td>50000</td>\n",
       "      <td>2</td>\n",
       "      <td>98</td>\n",
       "    </tr>\n",
       "    <tr>\n",
       "      <th>9</th>\n",
       "      <td>$250,000-$299,999</td>\n",
       "      <td>250000</td>\n",
       "      <td>50000</td>\n",
       "      <td>1</td>\n",
       "      <td>99</td>\n",
       "    </tr>\n",
       "    <tr>\n",
       "      <th>10</th>\n",
       "      <td>$300,000-$349,999</td>\n",
       "      <td>300000</td>\n",
       "      <td>50000</td>\n",
       "      <td>1</td>\n",
       "      <td>100</td>\n",
       "    </tr>\n",
       "    <tr>\n",
       "      <th>11</th>\n",
       "      <td>$350,000-$500,000</td>\n",
       "      <td>350000</td>\n",
       "      <td>50000</td>\n",
       "      <td>0</td>\n",
       "      <td>100</td>\n",
       "    </tr>\n",
       "  </tbody>\n",
       "</table>\n",
       "</div>"
      ],
      "text/plain": [
       "       Survey Options  Lower Bound  Range Size  \\\n",
       "0          0--$24,999            0       25000   \n",
       "1     $25,000-$49,999        25000       25000   \n",
       "2     $50,000-$74,999        50000       25000   \n",
       "3     $75,000-$99,999        75000       25000   \n",
       "4   $100,000-$124,999       100000       25000   \n",
       "5   $125,000-$149,999       125000       25000   \n",
       "6   $150,000-$174,999       150000       25000   \n",
       "7   $175,000-$199,999       175000       25000   \n",
       "8   $200,000-$249,999       200000       50000   \n",
       "9   $250,000-$299,999       250000       50000   \n",
       "10  $300,000-$349,999       300000       50000   \n",
       "11  $350,000-$500,000       350000       50000   \n",
       "\n",
       "    Percent of share by category range  cumsum  \n",
       "0                                    5       5  \n",
       "1                                    6      11  \n",
       "2                                   22      33  \n",
       "3                                   20      53  \n",
       "4                                   18      71  \n",
       "5                                   13      84  \n",
       "6                                    7      91  \n",
       "7                                    5      96  \n",
       "8                                    2      98  \n",
       "9                                    1      99  \n",
       "10                                   1     100  \n",
       "11                                   0     100  "
      ]
     },
     "execution_count": 46,
     "metadata": {},
     "output_type": "execute_result"
    }
   ],
   "source": [
    "df['cumsum'] = df['Percent of share by category range'].cumsum()\n",
    "df"
   ]
  },
  {
   "cell_type": "code",
   "execution_count": 47,
   "metadata": {},
   "outputs": [
    {
     "data": {
      "text/html": [
       "<div>\n",
       "<style scoped>\n",
       "    .dataframe tbody tr th:only-of-type {\n",
       "        vertical-align: middle;\n",
       "    }\n",
       "\n",
       "    .dataframe tbody tr th {\n",
       "        vertical-align: top;\n",
       "    }\n",
       "\n",
       "    .dataframe thead th {\n",
       "        text-align: right;\n",
       "    }\n",
       "</style>\n",
       "<table border=\"1\" class=\"dataframe\">\n",
       "  <thead>\n",
       "    <tr style=\"text-align: right;\">\n",
       "      <th></th>\n",
       "      <th>Survey Options</th>\n",
       "      <th>Lower Bound</th>\n",
       "      <th>Range Size</th>\n",
       "      <th>Percent of share by category range</th>\n",
       "      <th>cumsum</th>\n",
       "    </tr>\n",
       "  </thead>\n",
       "  <tbody>\n",
       "    <tr>\n",
       "      <th>3</th>\n",
       "      <td>$75,000-$99,999</td>\n",
       "      <td>75000.0</td>\n",
       "      <td>25000.0</td>\n",
       "      <td>20.0</td>\n",
       "      <td>53.0</td>\n",
       "    </tr>\n",
       "  </tbody>\n",
       "</table>\n",
       "</div>"
      ],
      "text/plain": [
       "    Survey Options  Lower Bound  Range Size  \\\n",
       "3  $75,000-$99,999      75000.0     25000.0   \n",
       "\n",
       "   Percent of share by category range  cumsum  \n",
       "3                                20.0    53.0  "
      ]
     },
     "execution_count": 47,
     "metadata": {},
     "output_type": "execute_result"
    }
   ],
   "source": [
    "tol = 3 #number of rows that sum to over 50\n",
    "cond = df.where((df['cumsum']>=50-tol)&(df['cumsum']<=50+tol)).dropna() #returns only one row\n",
    "cond"
   ]
  },
  {
   "cell_type": "code",
   "execution_count": 48,
   "metadata": {},
   "outputs": [],
   "source": [
    "values = cond.reset_index()"
   ]
  },
  {
   "cell_type": "code",
   "execution_count": 49,
   "metadata": {},
   "outputs": [
    {
     "data": {
      "text/html": [
       "<div>\n",
       "<style scoped>\n",
       "    .dataframe tbody tr th:only-of-type {\n",
       "        vertical-align: middle;\n",
       "    }\n",
       "\n",
       "    .dataframe tbody tr th {\n",
       "        vertical-align: top;\n",
       "    }\n",
       "\n",
       "    .dataframe thead th {\n",
       "        text-align: right;\n",
       "    }\n",
       "</style>\n",
       "<table border=\"1\" class=\"dataframe\">\n",
       "  <thead>\n",
       "    <tr style=\"text-align: right;\">\n",
       "      <th></th>\n",
       "      <th>index</th>\n",
       "      <th>Survey Options</th>\n",
       "      <th>Lower Bound</th>\n",
       "      <th>Range Size</th>\n",
       "      <th>Percent of share by category range</th>\n",
       "      <th>cumsum</th>\n",
       "    </tr>\n",
       "  </thead>\n",
       "  <tbody>\n",
       "    <tr>\n",
       "      <th>0</th>\n",
       "      <td>3</td>\n",
       "      <td>$75,000-$99,999</td>\n",
       "      <td>75000.0</td>\n",
       "      <td>25000.0</td>\n",
       "      <td>20.0</td>\n",
       "      <td>53.0</td>\n",
       "    </tr>\n",
       "  </tbody>\n",
       "</table>\n",
       "</div>"
      ],
      "text/plain": [
       "   index   Survey Options  Lower Bound  Range Size  \\\n",
       "0      3  $75,000-$99,999      75000.0     25000.0   \n",
       "\n",
       "   Percent of share by category range  cumsum  \n",
       "0                                20.0    53.0  "
      ]
     },
     "execution_count": 49,
     "metadata": {},
     "output_type": "execute_result"
    }
   ],
   "source": [
    "values"
   ]
  },
  {
   "cell_type": "code",
   "execution_count": 50,
   "metadata": {},
   "outputs": [
    {
     "data": {
      "text/plain": [
       "20.0"
      ]
     },
     "execution_count": 50,
     "metadata": {},
     "output_type": "execute_result"
    }
   ],
   "source": [
    "A = values.loc[0,'Percent of share by category range'] #Valid % in median containing category\n",
    "A"
   ]
  },
  {
   "cell_type": "code",
   "execution_count": 51,
   "metadata": {},
   "outputs": [
    {
     "data": {
      "text/plain": [
       "53.0"
      ]
     },
     "execution_count": 51,
     "metadata": {},
     "output_type": "execute_result"
    }
   ],
   "source": [
    "B = values.loc[0,'cumsum'] #Cumulative % (must exceed 50)\n",
    "B"
   ]
  },
  {
   "cell_type": "code",
   "execution_count": 52,
   "metadata": {},
   "outputs": [
    {
     "data": {
      "text/plain": [
       "75000.0"
      ]
     },
     "execution_count": 52,
     "metadata": {},
     "output_type": "execute_result"
    }
   ],
   "source": [
    "C = values.loc[0,'Lower Bound'] #Lower bound\n",
    "C"
   ]
  },
  {
   "cell_type": "code",
   "execution_count": 53,
   "metadata": {},
   "outputs": [
    {
     "data": {
      "text/plain": [
       "25000.0"
      ]
     },
     "execution_count": 53,
     "metadata": {},
     "output_type": "execute_result"
    }
   ],
   "source": [
    "D = values.loc[0,'Range Size'] #range size\n",
    "D"
   ]
  },
  {
   "cell_type": "code",
   "execution_count": 54,
   "metadata": {},
   "outputs": [
    {
     "data": {
      "text/plain": [
       "3.0"
      ]
     },
     "execution_count": 54,
     "metadata": {},
     "output_type": "execute_result"
    }
   ],
   "source": [
    "app_cum_per = B - 50 #applicable cumulative percent\n",
    "app_cum_per"
   ]
  },
  {
   "cell_type": "code",
   "execution_count": 55,
   "metadata": {},
   "outputs": [
    {
     "data": {
      "text/plain": [
       "17.0"
      ]
     },
     "execution_count": 55,
     "metadata": {},
     "output_type": "execute_result"
    }
   ],
   "source": [
    "targ_per = A - app_cum_per #target percent in category\n",
    "targ_per"
   ]
  },
  {
   "cell_type": "code",
   "execution_count": 56,
   "metadata": {},
   "outputs": [
    {
     "data": {
      "text/plain": [
       "96250.0"
      ]
     },
     "execution_count": 56,
     "metadata": {},
     "output_type": "execute_result"
    }
   ],
   "source": [
    "median = (targ_per / A) * D + C\n",
    "median"
   ]
  },
  {
   "cell_type": "code",
   "execution_count": 57,
   "metadata": {},
   "outputs": [],
   "source": [
    "df_med = df.append({'Percent of share by category range' : median },ignore_index=True)"
   ]
  },
  {
   "cell_type": "code",
   "execution_count": 58,
   "metadata": {},
   "outputs": [
    {
     "data": {
      "text/html": [
       "<div>\n",
       "<style scoped>\n",
       "    .dataframe tbody tr th:only-of-type {\n",
       "        vertical-align: middle;\n",
       "    }\n",
       "\n",
       "    .dataframe tbody tr th {\n",
       "        vertical-align: top;\n",
       "    }\n",
       "\n",
       "    .dataframe thead th {\n",
       "        text-align: right;\n",
       "    }\n",
       "</style>\n",
       "<table border=\"1\" class=\"dataframe\">\n",
       "  <thead>\n",
       "    <tr style=\"text-align: right;\">\n",
       "      <th></th>\n",
       "      <th>Survey Options</th>\n",
       "      <th>Lower Bound</th>\n",
       "      <th>Range Size</th>\n",
       "      <th>Percent of share by category range</th>\n",
       "      <th>cumsum</th>\n",
       "    </tr>\n",
       "  </thead>\n",
       "  <tbody>\n",
       "    <tr>\n",
       "      <th>0</th>\n",
       "      <td>0--$24,999</td>\n",
       "      <td>0.0</td>\n",
       "      <td>25000.0</td>\n",
       "      <td>5.0</td>\n",
       "      <td>5.0</td>\n",
       "    </tr>\n",
       "    <tr>\n",
       "      <th>1</th>\n",
       "      <td>$25,000-$49,999</td>\n",
       "      <td>25000.0</td>\n",
       "      <td>25000.0</td>\n",
       "      <td>6.0</td>\n",
       "      <td>11.0</td>\n",
       "    </tr>\n",
       "    <tr>\n",
       "      <th>2</th>\n",
       "      <td>$50,000-$74,999</td>\n",
       "      <td>50000.0</td>\n",
       "      <td>25000.0</td>\n",
       "      <td>22.0</td>\n",
       "      <td>33.0</td>\n",
       "    </tr>\n",
       "    <tr>\n",
       "      <th>3</th>\n",
       "      <td>$75,000-$99,999</td>\n",
       "      <td>75000.0</td>\n",
       "      <td>25000.0</td>\n",
       "      <td>20.0</td>\n",
       "      <td>53.0</td>\n",
       "    </tr>\n",
       "    <tr>\n",
       "      <th>4</th>\n",
       "      <td>$100,000-$124,999</td>\n",
       "      <td>100000.0</td>\n",
       "      <td>25000.0</td>\n",
       "      <td>18.0</td>\n",
       "      <td>71.0</td>\n",
       "    </tr>\n",
       "    <tr>\n",
       "      <th>5</th>\n",
       "      <td>$125,000-$149,999</td>\n",
       "      <td>125000.0</td>\n",
       "      <td>25000.0</td>\n",
       "      <td>13.0</td>\n",
       "      <td>84.0</td>\n",
       "    </tr>\n",
       "    <tr>\n",
       "      <th>6</th>\n",
       "      <td>$150,000-$174,999</td>\n",
       "      <td>150000.0</td>\n",
       "      <td>25000.0</td>\n",
       "      <td>7.0</td>\n",
       "      <td>91.0</td>\n",
       "    </tr>\n",
       "    <tr>\n",
       "      <th>7</th>\n",
       "      <td>$175,000-$199,999</td>\n",
       "      <td>175000.0</td>\n",
       "      <td>25000.0</td>\n",
       "      <td>5.0</td>\n",
       "      <td>96.0</td>\n",
       "    </tr>\n",
       "    <tr>\n",
       "      <th>8</th>\n",
       "      <td>$200,000-$249,999</td>\n",
       "      <td>200000.0</td>\n",
       "      <td>50000.0</td>\n",
       "      <td>2.0</td>\n",
       "      <td>98.0</td>\n",
       "    </tr>\n",
       "    <tr>\n",
       "      <th>9</th>\n",
       "      <td>$250,000-$299,999</td>\n",
       "      <td>250000.0</td>\n",
       "      <td>50000.0</td>\n",
       "      <td>1.0</td>\n",
       "      <td>99.0</td>\n",
       "    </tr>\n",
       "    <tr>\n",
       "      <th>10</th>\n",
       "      <td>$300,000-$349,999</td>\n",
       "      <td>300000.0</td>\n",
       "      <td>50000.0</td>\n",
       "      <td>1.0</td>\n",
       "      <td>100.0</td>\n",
       "    </tr>\n",
       "    <tr>\n",
       "      <th>11</th>\n",
       "      <td>$350,000-$500,000</td>\n",
       "      <td>350000.0</td>\n",
       "      <td>50000.0</td>\n",
       "      <td>0.0</td>\n",
       "      <td>100.0</td>\n",
       "    </tr>\n",
       "    <tr>\n",
       "      <th>12</th>\n",
       "      <td>NaN</td>\n",
       "      <td>NaN</td>\n",
       "      <td>NaN</td>\n",
       "      <td>96250.0</td>\n",
       "      <td>NaN</td>\n",
       "    </tr>\n",
       "  </tbody>\n",
       "</table>\n",
       "</div>"
      ],
      "text/plain": [
       "       Survey Options  Lower Bound  Range Size  \\\n",
       "0          0--$24,999          0.0     25000.0   \n",
       "1     $25,000-$49,999      25000.0     25000.0   \n",
       "2     $50,000-$74,999      50000.0     25000.0   \n",
       "3     $75,000-$99,999      75000.0     25000.0   \n",
       "4   $100,000-$124,999     100000.0     25000.0   \n",
       "5   $125,000-$149,999     125000.0     25000.0   \n",
       "6   $150,000-$174,999     150000.0     25000.0   \n",
       "7   $175,000-$199,999     175000.0     25000.0   \n",
       "8   $200,000-$249,999     200000.0     50000.0   \n",
       "9   $250,000-$299,999     250000.0     50000.0   \n",
       "10  $300,000-$349,999     300000.0     50000.0   \n",
       "11  $350,000-$500,000     350000.0     50000.0   \n",
       "12                NaN          NaN         NaN   \n",
       "\n",
       "    Percent of share by category range  cumsum  \n",
       "0                                  5.0     5.0  \n",
       "1                                  6.0    11.0  \n",
       "2                                 22.0    33.0  \n",
       "3                                 20.0    53.0  \n",
       "4                                 18.0    71.0  \n",
       "5                                 13.0    84.0  \n",
       "6                                  7.0    91.0  \n",
       "7                                  5.0    96.0  \n",
       "8                                  2.0    98.0  \n",
       "9                                  1.0    99.0  \n",
       "10                                 1.0   100.0  \n",
       "11                                 0.0   100.0  \n",
       "12                             96250.0     NaN  "
      ]
     },
     "execution_count": 58,
     "metadata": {},
     "output_type": "execute_result"
    }
   ],
   "source": [
    "df_med #to add back into dataframe "
   ]
  },
  {
   "cell_type": "markdown",
   "metadata": {},
   "source": [
    "### Our median income is $96,250.00"
   ]
  }
 ],
 "metadata": {
  "kernelspec": {
   "display_name": "Python (myENV)",
   "language": "python",
   "name": "myenv"
  },
  "language_info": {
   "codemirror_mode": {
    "name": "ipython",
    "version": 3
   },
   "file_extension": ".py",
   "mimetype": "text/x-python",
   "name": "python",
   "nbconvert_exporter": "python",
   "pygments_lexer": "ipython3",
   "version": "3.5.2"
  }
 },
 "nbformat": 4,
 "nbformat_minor": 2
}
